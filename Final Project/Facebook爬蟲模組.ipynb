{
 "cells": [
  {
   "cell_type": "code",
   "execution_count": 17,
   "metadata": {
    "collapsed": true
   },
   "outputs": [
    {
     "name": "stderr",
     "output_type": "stream",
     "text": [
      "[WDM] - Cache is valid for [30/03/2021]\n",
      "[WDM] - Looking for [chromedriver 89.0.4389.23 mac64] driver in cache \n",
      "[WDM] - Driver found in cache [/Users/hannahchen/.wdm/drivers/chromedriver/89.0.4389.23/mac64/chromedriver]\n"
     ]
    },
    {
     "name": "stdout",
     "output_type": "stream",
     "text": [
      " \n"
     ]
    },
    {
     "ename": "NoSuchElementException",
     "evalue": "Message: no such element: Unable to locate element: {\"method\":\"css selector\",\"selector\":\".oajrlxb2 gs1a9yip g5ia77u1 mtkw9kbi tlpljxtp qensuy8j ppp5ayq2 goun2846 ccm00jje s44p3ltw mk2mc5f4 rt8b4zig n8ej3o3l agehan2d sk4xxmp2 rq0escxv nhd2j8a9 q9uorilb mg4g778l btwxx1t3 pfnyh3mw p7hjln8o kvgmc6g5 cxmmr5t8 oygrvhab hcukyx3x tgvbjcpo hpfvmrgz jb3vyjys rz4wbd8a qt6c0cv9 a8nywdso l9j0dhe7 i1ao9s8h esuyzwwr f1sip0of du4w35lb lzcic4wl abiwlrkh p8dawk7l k4urcfbm\"}\n  (Session info: chrome=89.0.4389.90)\n",
     "output_type": "error",
     "traceback": [
      "\u001b[0;31m---------------------------------------------------------------------------\u001b[0m",
      "\u001b[0;31mNoSuchElementException\u001b[0m                    Traceback (most recent call last)",
      "\u001b[0;32m<ipython-input-17-1bd0266fd7e0>\u001b[0m in \u001b[0;36m<module>\u001b[0;34m\u001b[0m\n\u001b[1;32m     16\u001b[0m \u001b[0;34m\u001b[0m\u001b[0m\n\u001b[1;32m     17\u001b[0m \u001b[0mdriver\u001b[0m\u001b[0;34m.\u001b[0m\u001b[0mfind_element_by_xpath\u001b[0m\u001b[0;34m(\u001b[0m\u001b[0;34m\"/html/body/div[1]/div/div[1]/div/div[2]/div[2]/div/div[1]/div/div/label/input\"\u001b[0m\u001b[0;34m)\u001b[0m\u001b[0;34m.\u001b[0m\u001b[0msend_keys\u001b[0m\u001b[0;34m(\u001b[0m\u001b[0;34m'股癌'\u001b[0m\u001b[0;34m)\u001b[0m\u001b[0;34m\u001b[0m\u001b[0;34m\u001b[0m\u001b[0m\n\u001b[0;32m---> 18\u001b[0;31m \u001b[0mdriver\u001b[0m\u001b[0;34m.\u001b[0m\u001b[0mfind_element_by_class_name\u001b[0m\u001b[0;34m(\u001b[0m\u001b[0;34m\"oajrlxb2 gs1a9yip g5ia77u1 mtkw9kbi tlpljxtp qensuy8j ppp5ayq2 goun2846 ccm00jje s44p3ltw mk2mc5f4 rt8b4zig n8ej3o3l agehan2d sk4xxmp2 rq0escxv nhd2j8a9 q9uorilb mg4g778l btwxx1t3 pfnyh3mw p7hjln8o kvgmc6g5 cxmmr5t8 oygrvhab hcukyx3x tgvbjcpo hpfvmrgz jb3vyjys rz4wbd8a qt6c0cv9 a8nywdso l9j0dhe7 i1ao9s8h esuyzwwr f1sip0of du4w35lb lzcic4wl abiwlrkh p8dawk7l k4urcfbm\"\u001b[0m\u001b[0;34m)\u001b[0m\u001b[0;34m.\u001b[0m\u001b[0mclick\u001b[0m\u001b[0;34m(\u001b[0m\u001b[0;34m)\u001b[0m\u001b[0;34m\u001b[0m\u001b[0;34m\u001b[0m\u001b[0m\n\u001b[0m\u001b[1;32m     19\u001b[0m \u001b[0;34m\u001b[0m\u001b[0m\n\u001b[1;32m     20\u001b[0m \u001b[0;31m#driver.find_element_by_link_text('Gmail').click()\u001b[0m\u001b[0;34m\u001b[0m\u001b[0;34m\u001b[0m\u001b[0;34m\u001b[0m\u001b[0m\n",
      "\u001b[0;32m~/opt/anaconda3/lib/python3.7/site-packages/selenium/webdriver/remote/webdriver.py\u001b[0m in \u001b[0;36mfind_element_by_class_name\u001b[0;34m(self, name)\u001b[0m\n\u001b[1;32m    562\u001b[0m             \u001b[0melement\u001b[0m \u001b[0;34m=\u001b[0m \u001b[0mdriver\u001b[0m\u001b[0;34m.\u001b[0m\u001b[0mfind_element_by_class_name\u001b[0m\u001b[0;34m(\u001b[0m\u001b[0;34m'foo'\u001b[0m\u001b[0;34m)\u001b[0m\u001b[0;34m\u001b[0m\u001b[0;34m\u001b[0m\u001b[0m\n\u001b[1;32m    563\u001b[0m         \"\"\"\n\u001b[0;32m--> 564\u001b[0;31m         \u001b[0;32mreturn\u001b[0m \u001b[0mself\u001b[0m\u001b[0;34m.\u001b[0m\u001b[0mfind_element\u001b[0m\u001b[0;34m(\u001b[0m\u001b[0mby\u001b[0m\u001b[0;34m=\u001b[0m\u001b[0mBy\u001b[0m\u001b[0;34m.\u001b[0m\u001b[0mCLASS_NAME\u001b[0m\u001b[0;34m,\u001b[0m \u001b[0mvalue\u001b[0m\u001b[0;34m=\u001b[0m\u001b[0mname\u001b[0m\u001b[0;34m)\u001b[0m\u001b[0;34m\u001b[0m\u001b[0;34m\u001b[0m\u001b[0m\n\u001b[0m\u001b[1;32m    565\u001b[0m \u001b[0;34m\u001b[0m\u001b[0m\n\u001b[1;32m    566\u001b[0m     \u001b[0;32mdef\u001b[0m \u001b[0mfind_elements_by_class_name\u001b[0m\u001b[0;34m(\u001b[0m\u001b[0mself\u001b[0m\u001b[0;34m,\u001b[0m \u001b[0mname\u001b[0m\u001b[0;34m)\u001b[0m\u001b[0;34m:\u001b[0m\u001b[0;34m\u001b[0m\u001b[0;34m\u001b[0m\u001b[0m\n",
      "\u001b[0;32m~/opt/anaconda3/lib/python3.7/site-packages/selenium/webdriver/remote/webdriver.py\u001b[0m in \u001b[0;36mfind_element\u001b[0;34m(self, by, value)\u001b[0m\n\u001b[1;32m    976\u001b[0m         return self.execute(Command.FIND_ELEMENT, {\n\u001b[1;32m    977\u001b[0m             \u001b[0;34m'using'\u001b[0m\u001b[0;34m:\u001b[0m \u001b[0mby\u001b[0m\u001b[0;34m,\u001b[0m\u001b[0;34m\u001b[0m\u001b[0;34m\u001b[0m\u001b[0m\n\u001b[0;32m--> 978\u001b[0;31m             'value': value})['value']\n\u001b[0m\u001b[1;32m    979\u001b[0m \u001b[0;34m\u001b[0m\u001b[0m\n\u001b[1;32m    980\u001b[0m     \u001b[0;32mdef\u001b[0m \u001b[0mfind_elements\u001b[0m\u001b[0;34m(\u001b[0m\u001b[0mself\u001b[0m\u001b[0;34m,\u001b[0m \u001b[0mby\u001b[0m\u001b[0;34m=\u001b[0m\u001b[0mBy\u001b[0m\u001b[0;34m.\u001b[0m\u001b[0mID\u001b[0m\u001b[0;34m,\u001b[0m \u001b[0mvalue\u001b[0m\u001b[0;34m=\u001b[0m\u001b[0;32mNone\u001b[0m\u001b[0;34m)\u001b[0m\u001b[0;34m:\u001b[0m\u001b[0;34m\u001b[0m\u001b[0;34m\u001b[0m\u001b[0m\n",
      "\u001b[0;32m~/opt/anaconda3/lib/python3.7/site-packages/selenium/webdriver/remote/webdriver.py\u001b[0m in \u001b[0;36mexecute\u001b[0;34m(self, driver_command, params)\u001b[0m\n\u001b[1;32m    319\u001b[0m         \u001b[0mresponse\u001b[0m \u001b[0;34m=\u001b[0m \u001b[0mself\u001b[0m\u001b[0;34m.\u001b[0m\u001b[0mcommand_executor\u001b[0m\u001b[0;34m.\u001b[0m\u001b[0mexecute\u001b[0m\u001b[0;34m(\u001b[0m\u001b[0mdriver_command\u001b[0m\u001b[0;34m,\u001b[0m \u001b[0mparams\u001b[0m\u001b[0;34m)\u001b[0m\u001b[0;34m\u001b[0m\u001b[0;34m\u001b[0m\u001b[0m\n\u001b[1;32m    320\u001b[0m         \u001b[0;32mif\u001b[0m \u001b[0mresponse\u001b[0m\u001b[0;34m:\u001b[0m\u001b[0;34m\u001b[0m\u001b[0;34m\u001b[0m\u001b[0m\n\u001b[0;32m--> 321\u001b[0;31m             \u001b[0mself\u001b[0m\u001b[0;34m.\u001b[0m\u001b[0merror_handler\u001b[0m\u001b[0;34m.\u001b[0m\u001b[0mcheck_response\u001b[0m\u001b[0;34m(\u001b[0m\u001b[0mresponse\u001b[0m\u001b[0;34m)\u001b[0m\u001b[0;34m\u001b[0m\u001b[0;34m\u001b[0m\u001b[0m\n\u001b[0m\u001b[1;32m    322\u001b[0m             response['value'] = self._unwrap_value(\n\u001b[1;32m    323\u001b[0m                 response.get('value', None))\n",
      "\u001b[0;32m~/opt/anaconda3/lib/python3.7/site-packages/selenium/webdriver/remote/errorhandler.py\u001b[0m in \u001b[0;36mcheck_response\u001b[0;34m(self, response)\u001b[0m\n\u001b[1;32m    240\u001b[0m                 \u001b[0malert_text\u001b[0m \u001b[0;34m=\u001b[0m \u001b[0mvalue\u001b[0m\u001b[0;34m[\u001b[0m\u001b[0;34m'alert'\u001b[0m\u001b[0;34m]\u001b[0m\u001b[0;34m.\u001b[0m\u001b[0mget\u001b[0m\u001b[0;34m(\u001b[0m\u001b[0;34m'text'\u001b[0m\u001b[0;34m)\u001b[0m\u001b[0;34m\u001b[0m\u001b[0;34m\u001b[0m\u001b[0m\n\u001b[1;32m    241\u001b[0m             \u001b[0;32mraise\u001b[0m \u001b[0mexception_class\u001b[0m\u001b[0;34m(\u001b[0m\u001b[0mmessage\u001b[0m\u001b[0;34m,\u001b[0m \u001b[0mscreen\u001b[0m\u001b[0;34m,\u001b[0m \u001b[0mstacktrace\u001b[0m\u001b[0;34m,\u001b[0m \u001b[0malert_text\u001b[0m\u001b[0;34m)\u001b[0m\u001b[0;34m\u001b[0m\u001b[0;34m\u001b[0m\u001b[0m\n\u001b[0;32m--> 242\u001b[0;31m         \u001b[0;32mraise\u001b[0m \u001b[0mexception_class\u001b[0m\u001b[0;34m(\u001b[0m\u001b[0mmessage\u001b[0m\u001b[0;34m,\u001b[0m \u001b[0mscreen\u001b[0m\u001b[0;34m,\u001b[0m \u001b[0mstacktrace\u001b[0m\u001b[0;34m)\u001b[0m\u001b[0;34m\u001b[0m\u001b[0;34m\u001b[0m\u001b[0m\n\u001b[0m\u001b[1;32m    243\u001b[0m \u001b[0;34m\u001b[0m\u001b[0m\n\u001b[1;32m    244\u001b[0m     \u001b[0;32mdef\u001b[0m \u001b[0m_value_or_default\u001b[0m\u001b[0;34m(\u001b[0m\u001b[0mself\u001b[0m\u001b[0;34m,\u001b[0m \u001b[0mobj\u001b[0m\u001b[0;34m,\u001b[0m \u001b[0mkey\u001b[0m\u001b[0;34m,\u001b[0m \u001b[0mdefault\u001b[0m\u001b[0;34m)\u001b[0m\u001b[0;34m:\u001b[0m\u001b[0;34m\u001b[0m\u001b[0;34m\u001b[0m\u001b[0m\n",
      "\u001b[0;31mNoSuchElementException\u001b[0m: Message: no such element: Unable to locate element: {\"method\":\"css selector\",\"selector\":\".oajrlxb2 gs1a9yip g5ia77u1 mtkw9kbi tlpljxtp qensuy8j ppp5ayq2 goun2846 ccm00jje s44p3ltw mk2mc5f4 rt8b4zig n8ej3o3l agehan2d sk4xxmp2 rq0escxv nhd2j8a9 q9uorilb mg4g778l btwxx1t3 pfnyh3mw p7hjln8o kvgmc6g5 cxmmr5t8 oygrvhab hcukyx3x tgvbjcpo hpfvmrgz jb3vyjys rz4wbd8a qt6c0cv9 a8nywdso l9j0dhe7 i1ao9s8h esuyzwwr f1sip0of du4w35lb lzcic4wl abiwlrkh p8dawk7l k4urcfbm\"}\n  (Session info: chrome=89.0.4389.90)\n"
     ]
    }
   ],
   "source": [
    "# from selenium import webdriver\n",
    "# import time\n",
    "# from webdriver_manager.chrome import ChromeDriverManager\n",
    "\n",
    "# driver = webdriver.Chrome(ChromeDriverManager().install())\n",
    "\n",
    "# #driver = webdriver.Chrome()         #驅動chrome的web_driver\n",
    "# #driver.fullscreen_window()          #開啟全螢幕瀏覽器\n",
    "# driver.get('https://www.facebook.com/')         #輸入所要互動的網址\n",
    "\n",
    "# driver.find_element_by_name('email').send_keys('0987939797')\n",
    "# driver.find_element_by_name('pass').send_keys('nickthereal0802')\n",
    "# driver.find_element_by_name('login').click()\n",
    "\n",
    "# time.sleep(5)\n",
    "\n",
    "# driver.find_element_by_xpath(\"/html/body/div[1]/div/div[1]/div/div[2]/div[2]/div/div[1]/div/div/label/input\").send_keys('股癌')\n",
    "# driver.find_element_by_class_name(\"oajrlxb2 gs1a9yip g5ia77u1 mtkw9kbi tlpljxtp qensuy8j ppp5ayq2 goun2846 ccm00jje s44p3ltw mk2mc5f4 rt8b4zig n8ej3o3l agehan2d sk4xxmp2 rq0escxv nhd2j8a9 q9uorilb mg4g778l btwxx1t3 pfnyh3mw p7hjln8o kvgmc6g5 cxmmr5t8 oygrvhab hcukyx3x tgvbjcpo hpfvmrgz jb3vyjys rz4wbd8a qt6c0cv9 a8nywdso l9j0dhe7 i1ao9s8h esuyzwwr f1sip0of du4w35lb lzcic4wl abiwlrkh p8dawk7l k4urcfbm\").click()\n",
    "\n",
    "# #driver.find_element_by_link_text('Gmail').click()\n",
    "# #driver.find_element_by_partial_link_text('mail').click()\n",
    "# #driver.back()        #上一頁\n",
    "# #driver.forward()     #下一頁\n",
    "\n",
    "# #website_title = driver.title          #取回網頁title\n",
    "# #print(website_title)\n",
    "\n",
    "# #web_address = driver.current_url      #取回網址\n",
    "# #print(web_address)\n",
    "\n",
    "# #time.sleep(5)\n",
    "# #driver.quit()     #關掉整個瀏覽器\n",
    "# #driver.close()    #只關掉當下頁籤\n",
    "\n",
    "# post=[]\n",
    "# soup=BeautifulSoup(driver.page_source,\"html.parser\")\n",
    "# first=soup.select(\"._5pbx\")\n",
    "# for i in first:\n",
    "#     post.append(i.text)\n",
    "\n",
    "# time = soup.select(\"._5ptz\")\n",
    "# real_time = []\n",
    "# for i in timme:\n",
    "#     real.append(i.get(\"title\"))"
   ]
  },
  {
   "cell_type": "code",
   "execution_count": 31,
   "metadata": {},
   "outputs": [
    {
     "name": "stderr",
     "output_type": "stream",
     "text": [
      "/Users/hannahchen/opt/anaconda3/lib/python3.7/site-packages/ipykernel_launcher.py:14: DeprecationWarning: use options instead of chrome_options\n",
      "  \n"
     ]
    },
    {
     "name": "stdout",
     "output_type": "stream",
     "text": [
      "0\n"
     ]
    }
   ],
   "source": [
    "import selenium\n",
    "import requests\n",
    "from selenium import webdriver\n",
    "from bs4 import BeautifulSoup\n",
    "import numpy as np\n",
    "import time\n",
    "import csv\n",
    "import random\n",
    "\n",
    "chrome_options = webdriver.ChromeOptions()\n",
    "prefs = {\"profile.default_content_setting_values.notifications\" : 2}\n",
    "chrome_options.add_experimental_option(\"prefs\",prefs)\n",
    "# driver = webdriver.Chrome(ChromeDriverManager().install())\n",
    "driver=webdriver.Chrome(\"./chromedriver\",chrome_options=chrome_options)\n",
    "url = \"https://www.facebook.com/pg/Gooaye/posts/\"\n",
    "driver.get(url) \n",
    "res = requests.get(url)\n",
    "\n",
    "# driver.find_element_by_name('email').send_keys('0987939797')\n",
    "# driver.find_element_by_name('pass').send_keys('nickthereal0802')\n",
    "# driver.find_element_by_name('login').click()\n",
    "\n",
    "# post=[]\n",
    "soup=BeautifulSoup(res.text,\"html.parser\")\n",
    "# first=soup.select(\"._5pbx\")\n",
    "# for i in first:\n",
    "#     post.append(i.text)\n",
    "\n",
    "time.sleep(random.uniform(1, 10))\n",
    "\n",
    "real_time = soup.select(\"._5ptz\")\n",
    "real = []\n",
    "for i in real_time:\n",
    "    real.append(i.get(\"title\"))\n",
    "\n",
    "# while real[-1].split(\" \")[0]!=\"2021年3月10日\":\n",
    "driver.execute_script(\"window.scrollTo(0,document.body.scrollHeight);\")\n",
    "time.sleep(random.uniform(1, 10))\n",
    "    \n",
    "post = []\n",
    "soup=BeautifulSoup(driver.page_source,\"html.parser\")\n",
    "content = soup.select(\".kvgmc6g5\")\n",
    "for i in content:\n",
    "    post.append(i.text)\n",
    "    \n",
    "date_time = soup.select(\"._5ptz\")\n",
    "real = []\n",
    "for i in date_time:\n",
    "    real.append(i.get(\"title\"))\n",
    "        \n",
    "time.sleep(random.uniform(1, 10))\n",
    "        \n",
    "            \n",
    "#     print(real[-1].split(\" \")[0])\n",
    "\n",
    "\n",
    "print(len(post))\n",
    "\n",
    "driver.close()"
   ]
  },
  {
   "cell_type": "code",
   "execution_count": 27,
   "metadata": {},
   "outputs": [],
   "source": [
    "# driver=webdriver.Chrome(\"./chromedriver\",chrome_options=chrome_options)\n",
    "url = \"https://www.facebook.com/Gooaye\"\n",
    "# driver.get(url) \n",
    "res = requests.get(url)\n",
    "post=[]\n",
    "soup=BeautifulSoup(res.text ,\"html.parser\")\n",
    "first=soup.select(\".kvgmc6g5\")\n",
    "for i in first:\n",
    "    post.append(i.text)"
   ]
  },
  {
   "cell_type": "code",
   "execution_count": 32,
   "metadata": {},
   "outputs": [
    {
     "data": {
      "text/plain": [
       "[]"
      ]
     },
     "execution_count": 32,
     "metadata": {},
     "output_type": "execute_result"
    }
   ],
   "source": [
    "real"
   ]
  },
  {
   "cell_type": "code",
   "execution_count": 1,
   "metadata": {},
   "outputs": [
    {
     "name": "stderr",
     "output_type": "stream",
     "text": [
      "/Users/hannahchen/opt/anaconda3/lib/python3.7/site-packages/ipykernel_launcher.py:11: DeprecationWarning: use options instead of chrome_options\n",
      "  # This is added back by InteractiveShellApp.init_path()\n"
     ]
    },
    {
     "name": "stdout",
     "output_type": "stream",
     "text": [
      "11\n"
     ]
    }
   ],
   "source": [
    "import selenium\n",
    "from selenium import webdriver\n",
    "from bs4 import BeautifulSoup\n",
    "import numpy as np\n",
    "import time\n",
    "import csv\n",
    "\n",
    "chrome_options = webdriver.ChromeOptions()\n",
    "prefs = {\"profile.default_content_setting_values.notifications\" : 2}\n",
    "chrome_options.add_experimental_option(\"prefs\",prefs)\n",
    "driver=webdriver.Chrome(\"./chromedriver\",chrome_options=chrome_options)\n",
    "driver.get(\"https://www.facebook.com/login/?next=https%3A%2F%2Fwww.facebook.com%2FGooaye%2F\")\n",
    "\n",
    "driver.find_element_by_name('email').send_keys('0987939797')\n",
    "driver.find_element_by_name('pass').send_keys('nickthereal0802')\n",
    "driver.find_element_by_name('login').click()\n",
    "\n",
    "soup=BeautifulSoup(driver.page_source,\"lxml\")\n",
    "\n",
    "# post=[]\n",
    "# soup=BeautifulSoup(driver.page_source,\"lxml\")\n",
    "# first=soup.find_all(class_=\"text_exposed_root\")\n",
    "# for i in first:\n",
    "#     post.append(i.text)\n",
    "\n",
    "timme=soup.select(\"._5ptz\")\n",
    "real=[]\n",
    "for i in timme:\n",
    "    if i.get(\"title\")!=None:\n",
    "        real.append(i.get(\"title\"))\n",
    "\n",
    "for x in range(10):\n",
    "    driver.execute_script(\"window.scrollTo(0,document.body.scrollHeight);\")\n",
    "    post=[]\n",
    "    soup=BeautifulSoup(driver.page_source,\"lxml\")\n",
    "#     first=soup.find_all(class_=\"cxmmr5t8\")\n",
    "    \n",
    "    first = soup.select(\".qzhwtbm6.knvmm38d .d2edcug0.hpfvmrgz.qv66sw1b.c1et5uql.oi732d6d.ik7dh3pa.ht8s03o8.a8c37x1j.keod5gw0.nxhoafnm.aigsh9s9.d9wwppkn.fe6kdd0r.mau55g9w.c8b282yb.iv3no6db.jq4qci2q.a3bd9o3v.knj5qynh.oo9gr5id.hzawbc8m\")\n",
    "\n",
    "\n",
    "    for i in first:\n",
    "        post.append(i.text)\n",
    "\n",
    "#     timme=soup.find_all(\"abbr\")\n",
    "#     real=[]\n",
    "#     for i in timme:\n",
    "#         if i.get(\"title\")!=None:\n",
    "#             real.append(i.get(\"title\"))\n",
    "    \n",
    "    x += 1\n",
    "#     print(real[-1].split(\" \")[0])\n",
    "\n",
    "\n",
    "print(len(post))\n",
    "\n",
    "# driver.close()"
   ]
  },
  {
   "cell_type": "code",
   "execution_count": 16,
   "metadata": {},
   "outputs": [
    {
     "data": {
      "text/plain": [
       "['股癌 Gooaye',\n",
       " '210,401人說這讚，包括你的39位朋友',\n",
       " '237,086人在追蹤',\n",
       " 'https://linktr.ee/gooaye',\n",
       " '發送訊息',\n",
       " 'mk@gooaye.com',\n",
       " '播客 · 製作人 · 商業經濟網站',\n",
       " 'gooaye',\n",
       " '頂尖對決，哥吉拉和金剛',\n",
       " 'EP127 | 地表最大當日虧損聊下台美股近況，分享一下美國基建原物料相關 ETF，再來談 Archegos 爆倉事件。本集節目由農純鄉贊助…… 查看更多',\n",
       " '突然想到 2020 年 1 月 30 號台股新春大白包行情時，亞股跌成狗，但是美股仍然在創新高。當時亞洲人深諳疫情的破壞力，在美股也有布局的人，在創新高的樂觀行情中顧及風險，就減碼出場。直到數周後疫情傳到義大利，本來覺得疫情是亞洲人專屬的歐美人，不管是心態還是股市指數上才嚇跌。事隔一年我們正在從疫情的餘威中慢慢走出來，隨著聯準會最近打了預防針，升息時程可能會從 FED dot plot 顯示的 2023 往前拉，停止括表和縮表也因為財政刺激的有效可能提前。雖然經濟復甦、前景看好，但由海量現金疊出來估值高的個股仍見到不小的修正。不過我個人是對於大多數有在觀察的公司未來都不擔心，基本面紮實地存在，就看市場共識的新估值會落在哪個位置，接著繼續上攻。…… 查看更多',\n",
       " '塞子模擬器',\n",
       " '美股群組狀態：信心崩潰台股群組狀態：樂觀進取美股群組大哀號多半是因為配置中有過多的中小型科技股，或甚至是連配置都沒，直接單壓幾隻飆股。去年這樣做確實為很多人帶來暴力的報酬，以至於可能忽略掉配置的重要性。去年是公認的瘋狂的一年，歷史上會留名的那種，未來還會有嗎？不太確定，但機會可能不高。…… 查看更多',\n",
       " '日本野村證券創紀錄最大跌幅 -17%，公司說是因為美國子公司和某位美國客戶的交易將導致二十億美元的虧損。這位美國客戶的融資對象不只是野村，出來承認損失的目前還有瑞信。幾天前寫到的 Discovery channel and ViacomCBS, Farfetch 以及中概股如騰訊音樂、百度、跟誰學的爆殺，目前傳聞是因為有一家叫 Archegos Capital Management LLC 的家族基金爆倉所致。股市的走勢絕對不會只有單一力量，有時會是交互競合、推波助瀾、甚至是棒打落水狗的狀況產生，這基金可能就是個起火點。…… 查看更多',\n",
       " '當你在臉書講的幹話被人家拿去當報導標題https://money.udn.com/money/story/12040/5341501......',\n",
       " '大量的比特幣 ETF 正在等待審核上市。就在想說金融界開幹比特幣的聲音怎麼越來越少了，有錢賺大家都是同船人。',\n",
       " 'EP126 | 棉花聊一下棉花事件，以及 FED 主委打的預防針，停止擴表、縮表、升息可能都會往前拉。本來 dotplot 預期是 2023 升，但聯準會人員有稍微放提早的風聲。我覺得也不用過度解讀，就是經濟好才會停止放水，但停止放水可能又會影響到一些反應到未來好幾年的高估值股票，就像煉蠱一樣，看哪邊力道強大。本集節目由 yoxi 贊助…… 查看更多',\n",
       " '之前聊到的美國揚明光 Discovery Channel 開殺了，對照組是 ViacomCBS，這兩家傳媒公司的股價走勢完全重疊，山峰山谷全部一致，不知道 SEC 會不會調查。',\n",
       " '中國最大線上問答網站「知乎」要上美股 IPO 了，集資額暫定 1 億美元。美國有 Quora，中國有知乎，台灣⋯Yahoo 知識+ 的知識長們站出來！話說我想問一個問題，如果用新疆棉做小熊維尼產品會怎樣？',\n",
       " 'Cathie Wood, Jan van Eck, and Kevin O’Leary 直播',\n",
       " '缺櫃危機若再延燒，巴西紙漿業者警告衛生紙恐漲價。今天紙類股價在噴，不知道會不會觸發第三屆安屎之亂。',\n",
       " '明明是同一家公司、同樣的業績指引、同樣的營收成長、同樣的訂單能見度、同樣的管理層、同樣的營業內容。股價從 50 —-> 100「太神了」「歐印」「fucking buy」「還沒上車啊」「滿倉幹進去」「都不等我入金」「槓桿囉」「護國神山」…… 查看更多',\n",
       " 'H&M 因抵制新疆產品的聲明，遭中國封殺。環球時報額外加碼 Nike, Adidas, 無印良品和優衣庫等跨國品牌可能也存在與 H&M 相同的問題，意即，要國內的低能兒戰狼一起出征。若有殺低，審查即買點，我們演練過數次了。最後中國人還是會穿 Nike, Adidas，手拿 iPhone，車開特斯拉，我不騙你。',\n",
       " 'EP125 | 全球最大白牌車聯盟上線啦聊一下鴻海 MIH，以及殖利率的常見迷思。本集節目由 Pernaton 百通關贊助…… 查看更多',\n",
       " 'Question: 怎麼讓運價維持高檔？Answer: 滿倉幹進去橫著停把蘇伊士運河堵起來通通不要過。埃及當局正在動用機器挖寬運河協助長榮貨船脫困。…… 查看更多',\n",
       " '滿倉幹進去這樣撞車上全員輕傷，保護能力很好。但保護能力再好，也救不了腦袋空空直直撞的。特斯拉是理論和實際上都很難翻車的車，在台灣翻了兩台了。我們路上的奇葩真的多，台灣的數據價值連城。若在台灣可以進行自駕 FSD，全球用路無難事。…… 查看更多',\n",
       " '還滿不錯的評測，1.5 倍速掃過去覺得福斯犯了一些低端錯誤，像是奇怪的按鍵設計、欠佳的充電站導航、不良的充電機制，後兩者會在後續的更新解決。充電機制真的挺低能的，如果是年紀稍長又不是 3C 專精的長輩，一定搞到崩潰。好處呢，除了影片提到的像是安靜、滑順、扭力大這些電動車本來就會有的之外，我個人覺得福斯粉好消息來了：電動車沒有變速箱，被臭幹許久的 DSG 變速箱問題終於遇不到ㄌ，福斯最大的利空消失ㄌ，strong buy.以同級車來比較，ID.4 售價和 Tesla Model Y 相當，落在 $48000，福特的 Mach-E 則為 $45000。…… 查看更多',\n",
       " '一段時間就有人問我巴菲特相關課程可不可以上。巴菲特明明就有免費的股東信可以看，還有一本編列詳細的整理書可以翻。本人的精華智慧就放在那邊給你取閱，你不要，要去來路不明的課程付錢。我就不理解為什麼這麼簡單的道理有人想不清楚。',\n",
       " '估值是門科學加藝術，而且因為好惡趣味橫生。1. 查理蒙格說比特幣無價值，很明顯傑克多西和馬斯克不這麼想。2. 麥可貝瑞覺得特斯拉值 100 元，方舟估保守都有 1500 元。…… 查看更多',\n",
       " 'ARK 最新 2025 特斯拉目標價和分析，expected : 3000, bear case : 1500, bull case 4000.https://ark-invest.com/....../tesla-price-target-2/......',\n",
       " 'EP124 | 熱鬧香港IPO 狂潮還沒有結束，二次上市的中國巨獸會再拉一波。過去幾年來表現欠佳的恒生指數在中國版 IPO 狂潮之後，會由科技板塊帶動整體市場的表現。我只覺得好羨慕這些華爾街的承銷商，在美國還在中國，這一兩年的 IPO 賺到流湯。本集節目由 L. ERICKSON 贊助…… 查看更多']"
      ]
     },
     "execution_count": 16,
     "metadata": {},
     "output_type": "execute_result"
    }
   ],
   "source": [
    "post"
   ]
  },
  {
   "cell_type": "code",
   "execution_count": 11,
   "metadata": {
    "collapsed": true
   },
   "outputs": [
    {
     "name": "stderr",
     "output_type": "stream",
     "text": [
      "IOPub data rate exceeded.\n",
      "The notebook server will temporarily stop sending output\n",
      "to the client in order to avoid crashing it.\n",
      "To change this limit, set the config variable\n",
      "`--NotebookApp.iopub_data_rate_limit`.\n",
      "\n",
      "Current values:\n",
      "NotebookApp.iopub_data_rate_limit=1000000.0 (bytes/sec)\n",
      "NotebookApp.rate_limit_window=3.0 (secs)\n",
      "\n"
     ]
    }
   ],
   "source": [
    "soup = BeautifulSoup(driver.page_source, \"html.parser\")\n",
    "print(soup.prettify())"
   ]
  },
  {
   "cell_type": "code",
   "execution_count": null,
   "metadata": {},
   "outputs": [],
   "source": [
    "d2edcug0.hpfvmrgz.qv66sw1b.c1et5uql.oi732d6d.ik7dh3pa.ht8s03o8.a8c37x1j.keod5gw0.nxhoafnm.aigsh9s9.d9wwppkn.fe6kdd0r.mau55g9w.c8b282yb.iv3no6db.jq4qci2q.a3bd9o3v.knj5qynh.oo9gr5id.hzawbc8m"
   ]
  }
 ],
 "metadata": {
  "kernelspec": {
   "display_name": "Python 3",
   "language": "python",
   "name": "python3"
  },
  "language_info": {
   "codemirror_mode": {
    "name": "ipython",
    "version": 3
   },
   "file_extension": ".py",
   "mimetype": "text/x-python",
   "name": "python",
   "nbconvert_exporter": "python",
   "pygments_lexer": "ipython3",
   "version": "3.7.4"
  }
 },
 "nbformat": 4,
 "nbformat_minor": 2
}
