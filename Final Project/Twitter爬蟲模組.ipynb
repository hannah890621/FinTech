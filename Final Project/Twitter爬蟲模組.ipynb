{
 "cells": [
  {
   "cell_type": "markdown",
   "metadata": {},
   "source": [
    "# 匯入套件"
   ]
  },
  {
   "cell_type": "code",
   "execution_count": 27,
   "metadata": {
    "scrolled": false
   },
   "outputs": [],
   "source": [
    "import urllib\n",
    "import twitter\n",
    "import tweepy\n",
    "import json\n",
    "import pandas as pd"
   ]
  },
  {
   "cell_type": "code",
   "execution_count": 30,
   "metadata": {},
   "outputs": [],
   "source": [
    "consumer_key = \"5egHLauQqBKg1MZyRMecQNlMY\"\n",
    "consumer_secret = \"HKfYXiVyhX0ouzIWeI7YQN26hVxPyx2CSEr7N5D8Xwg245P8Ct\"\n",
    "access_token = \"782135371257688064-d2gou55nYMixCDHuSjMjT3V6d4AKZIa\"\n",
    "access_token_secret = \"IZWzhZAccfBRpJugVTbVSM6LQgDXq67E00dg0HI6RH5Be\"\n",
    "\n",
    "auth = tweepy.OAuthHandler(consumer_key, consumer_secret)\n",
    "auth.set_access_token(access_token, access_token_secret)\n",
    "\n",
    "api = tweepy.API(auth)\n",
    "count = 0\n",
    "final_info = []\n",
    "for i in range(30):\n",
    "    tweets = api.user_timeline(\"elonmusk\", page = i)\n",
    "    for x in range(int(len(tweets))) :\n",
    "        post = tweets[x]\n",
    "        time = post.created_at\n",
    "        content = post.text\n",
    "        \n",
    "        \n",
    "        info = {\n",
    "            'time' : time,\n",
    "            'content' : content\n",
    "        }\n",
    "        \n",
    "        final_info.append(info)\n",
    "        \n",
    "        x += 1\n",
    "        count += 1\n",
    "        \n",
    "df = pd.DataFrame(final_info)\n",
    "df\n",
    "\n",
    "print(\"Total : \" , count)\n"
   ]
  },
  {
   "cell_type": "code",
   "execution_count": null,
   "metadata": {},
   "outputs": [],
   "source": []
  }
 ],
 "metadata": {
  "kernelspec": {
   "display_name": "Python 3",
   "language": "python",
   "name": "python3"
  },
  "language_info": {
   "codemirror_mode": {
    "name": "ipython",
    "version": 3
   },
   "file_extension": ".py",
   "mimetype": "text/x-python",
   "name": "python",
   "nbconvert_exporter": "python",
   "pygments_lexer": "ipython3",
   "version": "3.7.4"
  }
 },
 "nbformat": 4,
 "nbformat_minor": 2
}
